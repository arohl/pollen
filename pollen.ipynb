{
 "cells": [
  {
   "cell_type": "code",
   "execution_count": 9,
   "metadata": {},
   "outputs": [
    {
     "name": "stdout",
     "output_type": "stream",
     "text": [
      "High\n",
      "---\n",
      "Friday High\n",
      "Saturday High\n",
      "Sunday High\n"
     ]
    }
   ],
   "source": [
    "import urllib.request\n",
    "from bs4 import BeautifulSoup\n",
    "import datetime\n",
    "import calendar\n",
    "\n",
    "pollen = \"https://weather.news.com.au/wa/perth/perth/pollen-index\"\n",
    "page = urllib.request.urlopen(pollen)\n",
    "soup = BeautifulSoup(page, \"html.parser\")\n",
    "pollen_ul = soup.find(id=\"pollen-graph\")\n",
    "pollen_week = pollen_ul.find_all(\"div\")\n",
    "print(pollen_week[0].contents[1].string)\n",
    "print(\"---\")\n",
    "for x in range(1, 4):\n",
    "    next_day = datetime.date.today() + datetime.timedelta(days=x)\n",
    "    print (f\"{calendar.day_name[next_day.weekday()]} {pollen_week[x].contents[1].string}\")"
   ]
  },
  {
   "cell_type": "code",
   "execution_count": null,
   "metadata": {},
   "outputs": [],
   "source": []
  }
 ],
 "metadata": {
  "kernelspec": {
   "display_name": "Python 3",
   "language": "python",
   "name": "python3"
  },
  "language_info": {
   "codemirror_mode": {
    "name": "ipython",
    "version": 3
   },
   "file_extension": ".py",
   "mimetype": "text/x-python",
   "name": "python",
   "nbconvert_exporter": "python",
   "pygments_lexer": "ipython3",
   "version": "3.7.7"
  }
 },
 "nbformat": 4,
 "nbformat_minor": 4
}
